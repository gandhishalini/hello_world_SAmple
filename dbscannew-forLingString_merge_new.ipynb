{
 "cells": [
  {
   "cell_type": "code",
   "execution_count": 1,
   "metadata": {},
   "outputs": [
    {
     "name": "stdin",
     "output_type": "stream",
     "text": [
      "Username: talasir\n",
      "Password: ········\n"
     ]
    }
   ],
   "source": [
    "import teradatasql\n",
    "import getpass\n",
    "from getpass import *\n",
    "import pandas as pd\n",
    "\n",
    "query = 'SELECT * FROM COVID_REPORTING_V.COVID_PATIENT_GEO_ALL where \"date\" is not null AND LOOK_BACK_PERIOD=14;'\n",
    "with teradatasql.connect(host='tdprod1', user=input('Username:'), password=getpass('Password:'), logmech='LDAP') as connect:\n",
    "    df = pd.read_sql(query, connect)"
   ]
  },
  {
   "cell_type": "code",
   "execution_count": 2,
   "metadata": {},
   "outputs": [],
   "source": [
    "import pandas as pd\n",
    "geo_f = df[0:0]\n",
    "commanFilePath = r'C:\\Users\\TALASIR\\Documents\\GIS\\to_be_processed\\\\'\n",
    "FileName = 'COVID_PATIENT_GEO14'\n",
    "df.to_csv(commanFilePath + FileName + '.csv', header=True, index=False)\n",
    "for x,y in enumerate(df['AGE_GROUP'].unique().tolist()):\n",
    "    geo_temp = pd.DataFrame(df[df['AGE_GROUP'].str.contains(y)]).reset_index()\n",
    "    #print(geo_temp)\n",
    "    filewithpathname = commanFilePath + FileName + '_' + y + '.csv'\n",
    "    geo_temp.to_csv(filewithpathname, header=True, index=False)"
   ]
  },
  {
   "cell_type": "code",
   "execution_count": 2,
   "metadata": {},
   "outputs": [
    {
     "name": "stderr",
     "output_type": "stream",
     "text": [
      "C:\\Users\\TALASIR\\AppData\\Local\\Continuum\\anaconda3\\lib\\site-packages\\pyproj\\crs\\crs.py:53: FutureWarning: '+init=<authority>:<code>' syntax is deprecated. '<authority>:<code>' is the preferred initialization method. When making the change, be mindful of axis order changes: https://pyproj4.github.io/pyproj/stable/gotchas.html#axis-order-changes-in-proj-6\n",
      "  return _prepare_from_string(\" \".join(pjargs))\n",
      "C:\\Users\\TALASIR\\AppData\\Local\\Continuum\\anaconda3\\lib\\site-packages\\pyproj\\crs\\crs.py:53: FutureWarning: '+init=<authority>:<code>' syntax is deprecated. '<authority>:<code>' is the preferred initialization method. When making the change, be mindful of axis order changes: https://pyproj4.github.io/pyproj/stable/gotchas.html#axis-order-changes-in-proj-6\n",
      "  return _prepare_from_string(\" \".join(pjargs))\n",
      "C:\\Users\\TALASIR\\AppData\\Local\\Continuum\\anaconda3\\lib\\site-packages\\pyproj\\crs\\crs.py:53: FutureWarning: '+init=<authority>:<code>' syntax is deprecated. '<authority>:<code>' is the preferred initialization method. When making the change, be mindful of axis order changes: https://pyproj4.github.io/pyproj/stable/gotchas.html#axis-order-changes-in-proj-6\n",
      "  return _prepare_from_string(\" \".join(pjargs))\n",
      "C:\\Users\\TALASIR\\AppData\\Local\\Continuum\\anaconda3\\lib\\site-packages\\pyproj\\crs\\crs.py:53: FutureWarning: '+init=<authority>:<code>' syntax is deprecated. '<authority>:<code>' is the preferred initialization method. When making the change, be mindful of axis order changes: https://pyproj4.github.io/pyproj/stable/gotchas.html#axis-order-changes-in-proj-6\n",
      "  return _prepare_from_string(\" \".join(pjargs))\n",
      "C:\\Users\\TALASIR\\AppData\\Local\\Continuum\\anaconda3\\lib\\site-packages\\pyproj\\crs\\crs.py:53: FutureWarning: '+init=<authority>:<code>' syntax is deprecated. '<authority>:<code>' is the preferred initialization method. When making the change, be mindful of axis order changes: https://pyproj4.github.io/pyproj/stable/gotchas.html#axis-order-changes-in-proj-6\n",
      "  return _prepare_from_string(\" \".join(pjargs))\n",
      "C:\\Users\\TALASIR\\AppData\\Local\\Continuum\\anaconda3\\lib\\site-packages\\pyproj\\crs\\crs.py:53: FutureWarning: '+init=<authority>:<code>' syntax is deprecated. '<authority>:<code>' is the preferred initialization method. When making the change, be mindful of axis order changes: https://pyproj4.github.io/pyproj/stable/gotchas.html#axis-order-changes-in-proj-6\n",
      "  return _prepare_from_string(\" \".join(pjargs))\n",
      "C:\\Users\\TALASIR\\AppData\\Local\\Continuum\\anaconda3\\lib\\site-packages\\pyproj\\crs\\crs.py:53: FutureWarning: '+init=<authority>:<code>' syntax is deprecated. '<authority>:<code>' is the preferred initialization method. When making the change, be mindful of axis order changes: https://pyproj4.github.io/pyproj/stable/gotchas.html#axis-order-changes-in-proj-6\n",
      "  return _prepare_from_string(\" \".join(pjargs))\n",
      "C:\\Users\\TALASIR\\AppData\\Local\\Continuum\\anaconda3\\lib\\site-packages\\pyproj\\crs\\crs.py:53: FutureWarning: '+init=<authority>:<code>' syntax is deprecated. '<authority>:<code>' is the preferred initialization method. When making the change, be mindful of axis order changes: https://pyproj4.github.io/pyproj/stable/gotchas.html#axis-order-changes-in-proj-6\n",
      "  return _prepare_from_string(\" \".join(pjargs))\n",
      "C:\\Users\\TALASIR\\AppData\\Local\\Continuum\\anaconda3\\lib\\site-packages\\pyproj\\crs\\crs.py:53: FutureWarning: '+init=<authority>:<code>' syntax is deprecated. '<authority>:<code>' is the preferred initialization method. When making the change, be mindful of axis order changes: https://pyproj4.github.io/pyproj/stable/gotchas.html#axis-order-changes-in-proj-6\n",
      "  return _prepare_from_string(\" \".join(pjargs))\n",
      "C:\\Users\\TALASIR\\AppData\\Local\\Continuum\\anaconda3\\lib\\site-packages\\pyproj\\crs\\crs.py:53: FutureWarning: '+init=<authority>:<code>' syntax is deprecated. '<authority>:<code>' is the preferred initialization method. When making the change, be mindful of axis order changes: https://pyproj4.github.io/pyproj/stable/gotchas.html#axis-order-changes-in-proj-6\n",
      "  return _prepare_from_string(\" \".join(pjargs))\n",
      "C:\\Users\\TALASIR\\AppData\\Local\\Continuum\\anaconda3\\lib\\site-packages\\pyproj\\crs\\crs.py:53: FutureWarning: '+init=<authority>:<code>' syntax is deprecated. '<authority>:<code>' is the preferred initialization method. When making the change, be mindful of axis order changes: https://pyproj4.github.io/pyproj/stable/gotchas.html#axis-order-changes-in-proj-6\n",
      "  return _prepare_from_string(\" \".join(pjargs))\n"
     ]
    }
   ],
   "source": [
    "from sklearn.cluster import DBSCAN\n",
    "from shapely.geometry import MultiPoint, Polygon, MultiPolygon\n",
    "import pandas as pd\n",
    "import datetime\n",
    "from dateutil import parser\n",
    "import numpy as np\n",
    "import geopandas as gpd\n",
    "from dateutil import parser\n",
    "import os\n",
    "import re\n",
    "\n",
    "folder = r'C:\\Users\\TALASIR\\Documents\\GIS\\to_be_processed'\n",
    "listOfFiles = list()\n",
    "for subdir, dirs, files in os.walk(folder):\n",
    "    for name in files:\n",
    "        if \"COVID_PATIENT_GEO21\" in name:\n",
    "            filepath = subdir + os.sep + name\n",
    "            listOfFiles.append(filepath)\n",
    "            \n",
    "for i in range(len(listOfFiles)):\n",
    "    datafile=listOfFiles[i]\n",
    "    data=pd.read_csv(datafile)\n",
    "    Look_back_period=data['LOOK_BACK_PERIOD'].unique().astype(str)\n",
    "    Look_back_periodToStr = ' '.join([str(elem) for elem in Look_back_period]) \n",
    "    Age_Group=data['AGE_GROUP'].unique().astype(str)\n",
    "    Age_GroupToStr = ' '.join([str(elem) for elem in Age_Group]) \n",
    "    data.Date=[parser.parse(t).date() for t in data.Date]\n",
    "    start_date=None\n",
    "    if start_date is None:\n",
    "            start_date=np.min(data.Date.values)\n",
    "            recheader=['id','centroid_x','centroid_y']\n",
    "    end_date=datetime.datetime.now().date()\n",
    "    datevals=[start_date+datetime.timedelta(days=i) for i in range((end_date-start_date).days+1)]\n",
    "    recheader.extend(datevals)\n",
    "    gpframe=gpd.GeoDataFrame(data,geometry=gpd.points_from_xy(data.lon, data.lat))\n",
    "    gpframe.crs={'init': 'epsg:4326'}\n",
    "    gpframe=gpframe.to_crs({'init': 'epsg:26917'})\n",
    "    data['x']=[geom.x for geom in gpframe.geometry]\n",
    "    data['y']=[geom.y for geom in gpframe.geometry]\n",
    "    data=data.drop(columns=['geometry'])\n",
    "    xy=data[['x','y']].values\n",
    "    latlon=data[['lon','lat']].values\n",
    "    dates=data['Date'].values\n",
    "    minneighbors=10\n",
    "    maxdistance=1000\n",
    "    clusterData=pd.DataFrame(columns=recheader)\n",
    "    clustering = DBSCAN(eps=maxdistance, min_samples=minneighbors,algorithm='kd_tree').fit(xy)\n",
    "    labels = clustering.labels_\n",
    "    total_clusters = len(set(labels))\n",
    "    k=0\n",
    "    geometries=[]\n",
    "    geometries_line=[]\n",
    "    ids=[]\n",
    "    for i in range(total_clusters):\n",
    "            ltln=latlon[labels==i]\n",
    "            date=dates[labels==i]\n",
    "            prjpoints=xy[labels==i]\n",
    "            if len(ltln)!=0 and len(ltln)>=minneighbors:\n",
    "                tdframe=pd.DataFrame(columns=['date'])\n",
    "                tdframe.date=datevals\n",
    "                newdframe=pd.DataFrame(columns=['date','counts'])\n",
    "                #aggregate counts based on date\n",
    "                unique, counts = np.unique(date, return_counts=True)\n",
    "                newdframe.date=unique\n",
    "                newdframe.counts=counts\n",
    "                tdframe=tdframe.merge(newdframe,on='date',how='outer')\n",
    "                tdframe=tdframe.fillna(0)\n",
    "                cnts=np.cumsum(tdframe.counts.values)\n",
    "                cnts[cnts<minneighbors]=0\n",
    "                tdframe.counts=cnts\n",
    "                #for generating centroids\n",
    "                geom=MultiPoint(ltln)\n",
    "                dat=[k,geom.centroid.x,geom.centroid.y]\n",
    "                ids.append(k)\n",
    "                geom_proj=MultiPoint(prjpoints)\n",
    "                #convex hulls based on all members\n",
    "                geom_hull=geom_proj.convex_hull\n",
    "                if geom_hull.geom_type!='Polygon':\n",
    "                    geom_hull=geom_hull.buffer(maxdistance)\n",
    "                geom_line=geom_hull.boundary\n",
    "                geometries.append(geom_hull)\n",
    "                geometries_line.append(geom_line)\n",
    "                dat.extend(tdframe.counts.values.tolist())\n",
    "                clusterData.loc[len(clusterData)]=dat\n",
    "                k+=1\n",
    "                clusterData.to_csv(datafile.replace('.csv','')+\"_centroids_\"+str(maxdistance)+\"_\"+str(minneighbors)+'.csv',index=False)\n",
    "                new_temp_df=pd.DataFrame(ids,columns=['id'])\n",
    "                new_temp_df = new_temp_df.assign(look_back=Look_back_periodToStr)\n",
    "                new_temp_df = new_temp_df.assign(age_group=Age_GroupToStr)\n",
    "                #print(new_temp_df)\n",
    "                gdf = gpd.GeoDataFrame(new_temp_df, geometry=geometries,crs={'init': 'epsg:26917'})\n",
    "                gdf_line = gpd.GeoDataFrame(new_temp_df, geometry=geometries_line,crs={'init': 'epsg:26917'})\n",
    "                gdf.to_file(datafile.replace('.csv','')+\"_shapes_\"+str(maxdistance)+\"_\"+str(minneighbors)+'.shp') \n",
    "                gdf_line.to_file(datafile.replace('.csv','')+\"_shapes_linestring_\"+str(maxdistance)+\"_\"+str(minneighbors)+'.shp')\n",
    "    i+=1"
   ]
  },
  {
   "cell_type": "code",
   "execution_count": 3,
   "metadata": {},
   "outputs": [
    {
     "name": "stdout",
     "output_type": "stream",
     "text": [
      "['C:\\\\Users\\\\TALASIR\\\\Documents\\\\GIS\\\\output\\\\COVID_PATIENT_GEO21_shapes_1000_10.shp', 'C:\\\\Users\\\\TALASIR\\\\Documents\\\\GIS\\\\output\\\\COVID_PATIENT_GEO21_shapes_linestring_1000_10.shp']\n"
     ]
    }
   ],
   "source": [
    "#Merge shape files based on clustering type\n",
    "import os\n",
    "from pathlib import Path\n",
    "import geopandas as gpd\n",
    "import pandas as pd\n",
    "folder = Path(r\"C:\\Users\\TALASIR\\Documents\\GIS\\output\")\n",
    "file = os.listdir(folder)\n",
    "path = [os.path.join(folder, i) for i in file if \".shp\" in i]\n",
    "gdf = gpd.GeoDataFrame(pd.concat([gpd.read_file(i) for i in path], \n",
    "                        ignore_index=True), crs={'init': 'epsg:26917'})\n",
    "gdf.drop_duplicates().to_file(folder / 'Neighborhood.shp')"
   ]
  },
  {
   "cell_type": "code",
   "execution_count": 5,
   "metadata": {},
   "outputs": [
    {
     "data": {
      "text/plain": [
       "0"
      ]
     },
     "execution_count": 5,
     "metadata": {},
     "output_type": "execute_result"
    }
   ],
   "source": [
    "#shape file to csv\n",
    "import ogr,csv,sys\n",
    "import os\n",
    "command = \"ogr2ogr -f CSV {} {} -lco GEOMETRY=AS_WKT\".format(r\"C:\\Users\\TALASIR\\Documents\\GIS\\to_be_processed\\COVID_PATIENT_GEO21_shapes_linestring_500_5.csv\",r\"C:\\Users\\TALASIR\\Documents\\GIS\\to_be_processed\\COVID_PATIENT_GEO21_shapes_linestring_500_5.shp\")\n",
    "os.system(command)"
   ]
  }
 ],
 "metadata": {
  "kernelspec": {
   "display_name": "Python 3",
   "language": "python",
   "name": "python3"
  },
  "language_info": {
   "codemirror_mode": {
    "name": "ipython",
    "version": 3
   },
   "file_extension": ".py",
   "mimetype": "text/x-python",
   "name": "python",
   "nbconvert_exporter": "python",
   "pygments_lexer": "ipython3",
   "version": "3.7.4"
  }
 },
 "nbformat": 4,
 "nbformat_minor": 4
}
